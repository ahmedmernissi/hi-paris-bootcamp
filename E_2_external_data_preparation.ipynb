{
 "cells": [
  {
   "cell_type": "markdown",
   "metadata": {},
   "source": [
    "<p align=\"center\">\n",
    "  <a>\n",
    "    <img src=\"./figures/logo-hi-paris-retina.png\" alt=\"Logo\" width=\"280\" height=\"180\">\n",
    "  </a>\n",
    "\n",
    "  <h3 align=\"center\">Data Science Bootcamp</h3>\n",
    "</p>"
   ]
  },
  {
   "cell_type": "markdown",
   "metadata": {},
   "source": [
    "### Resources"
   ]
  },
  {
   "cell_type": "markdown",
   "metadata": {},
   "source": [
    "For more details about Data Cleaning, please refer to the `1_fires_preparation.ipynb` notebook"
   ]
  },
  {
   "cell_type": "markdown",
   "metadata": {},
   "source": [
    "Objective of this lab\n",
    "======\n",
    "\n",
    "Merge external data (temperature, rainfall, demographics) into a single table. Clean the data to obtain a final dataset, without errors, duplicates, irrelevant values... ready to be analyzed\n",
    "\n",
    "\n",
    "Objectives of this Notebook\n",
    "======\n",
    "\n",
    "##### **Objectives:**\n",
    "- Read multiple external datasets\n",
    "    - temperatures and precipitations from the `./data/1_raw/cities/` folder\n",
    "    - demographics from the file `./data/1_raw/cities/us-cities-demographics.csv`\n",
    "- Merge them into a unique table\n",
    "- Save the cleaned DataFrame in `./data/2_clean/external_data.csv`"
   ]
  },
  {
   "cell_type": "code",
   "execution_count": 1,
   "metadata": {},
   "outputs": [],
   "source": [
    "# first, we need to import pandas\n",
    "import pandas as pd"
   ]
  },
  {
   "cell_type": "markdown",
   "metadata": {},
   "source": [
    "##### **Data structure**:\n",
    "- Temperature and precipitation\n",
    "    - The `./data/1_raw/cities/` folder contains temperature and precipitation values for 210 US cities.\n",
    "    - it contains a file `./data/1_raw/cities/city_info.csv` that maps the city name with a code (example: \"USW00094728\" for \"New York\"). Columns are:\n",
    "        * `Name`: name of the city\n",
    "        * `ID`: ID of the city (this ID is the name of the corresponding file with temperature and precipitation values)\n",
    "        * `Lat`: Latitude\n",
    "        * `Lon`: Longitude\n",
    "        * `Stn.Name`: name of the city for reporting (not used)\n",
    "        * `Stn.stDate`: minimum date from which temperature and precipitation are available\n",
    "        * `Stn.edDate`: maximum date for data availability\n",
    "        * all other columns are not relevant"
   ]
  },
  {
   "cell_type": "code",
   "execution_count": 2,
   "metadata": {},
   "outputs": [
    {
     "name": "stdout",
     "output_type": "stream",
     "text": [
      "City infos: print the first 5 rows of the dataframe\n"
     ]
    },
    {
     "data": {
      "text/html": [
       "<div>\n",
       "<style scoped>\n",
       "    .dataframe tbody tr th:only-of-type {\n",
       "        vertical-align: middle;\n",
       "    }\n",
       "\n",
       "    .dataframe tbody tr th {\n",
       "        vertical-align: top;\n",
       "    }\n",
       "\n",
       "    .dataframe thead th {\n",
       "        text-align: right;\n",
       "    }\n",
       "</style>\n",
       "<table border=\"1\" class=\"dataframe\">\n",
       "  <thead>\n",
       "    <tr style=\"text-align: right;\">\n",
       "      <th></th>\n",
       "      <th>Unnamed: 0</th>\n",
       "      <th>Name</th>\n",
       "      <th>ID</th>\n",
       "      <th>Lat</th>\n",
       "      <th>Lon</th>\n",
       "      <th>Stn.Name</th>\n",
       "      <th>Stn.stDate</th>\n",
       "      <th>Stn.edDate</th>\n",
       "      <th>Unnamed: 8</th>\n",
       "    </tr>\n",
       "  </thead>\n",
       "  <tbody>\n",
       "    <tr>\n",
       "      <th>0</th>\n",
       "      <td>1</td>\n",
       "      <td>Lander</td>\n",
       "      <td>USW00024021</td>\n",
       "      <td>42.8153</td>\n",
       "      <td>-108.7261</td>\n",
       "      <td>LANDER WBO</td>\n",
       "      <td>1892-01-01</td>\n",
       "      <td>5/28/1946</td>\n",
       "      <td>False</td>\n",
       "    </tr>\n",
       "    <tr>\n",
       "      <th>1</th>\n",
       "      <td>2</td>\n",
       "      <td>Lander</td>\n",
       "      <td>USW00024021</td>\n",
       "      <td>42.8153</td>\n",
       "      <td>-108.7261</td>\n",
       "      <td>LANDER HUNT FIELD</td>\n",
       "      <td>5/29/1946</td>\n",
       "      <td>12/31/2021</td>\n",
       "      <td>False</td>\n",
       "    </tr>\n",
       "    <tr>\n",
       "      <th>2</th>\n",
       "      <td>3</td>\n",
       "      <td>Cheyenne</td>\n",
       "      <td>USW00024018</td>\n",
       "      <td>41.1519</td>\n",
       "      <td>-104.8061</td>\n",
       "      <td>CHEYENNE WBO</td>\n",
       "      <td>1871-01-01</td>\n",
       "      <td>8/31/1935</td>\n",
       "      <td>False</td>\n",
       "    </tr>\n",
       "    <tr>\n",
       "      <th>3</th>\n",
       "      <td>4</td>\n",
       "      <td>Cheyenne</td>\n",
       "      <td>USW00024018</td>\n",
       "      <td>41.1519</td>\n",
       "      <td>-104.8061</td>\n",
       "      <td>CHEYENNE MUNICIPAL ARPT</td>\n",
       "      <td>9/1/1935</td>\n",
       "      <td>12/31/2021</td>\n",
       "      <td>False</td>\n",
       "    </tr>\n",
       "    <tr>\n",
       "      <th>4</th>\n",
       "      <td>5</td>\n",
       "      <td>Wausau</td>\n",
       "      <td>USW00014897</td>\n",
       "      <td>44.9258</td>\n",
       "      <td>-89.6256</td>\n",
       "      <td>Wausau Record Herald</td>\n",
       "      <td>1896-01-01</td>\n",
       "      <td>12/31/1941</td>\n",
       "      <td>False</td>\n",
       "    </tr>\n",
       "  </tbody>\n",
       "</table>\n",
       "</div>"
      ],
      "text/plain": [
       "   Unnamed: 0      Name           ID      Lat       Lon  \\\n",
       "0           1    Lander  USW00024021  42.8153 -108.7261   \n",
       "1           2    Lander  USW00024021  42.8153 -108.7261   \n",
       "2           3  Cheyenne  USW00024018  41.1519 -104.8061   \n",
       "3           4  Cheyenne  USW00024018  41.1519 -104.8061   \n",
       "4           5    Wausau  USW00014897  44.9258  -89.6256   \n",
       "\n",
       "                  Stn.Name  Stn.stDate  Stn.edDate  Unnamed: 8  \n",
       "0               LANDER WBO  1892-01-01   5/28/1946       False  \n",
       "1        LANDER HUNT FIELD   5/29/1946  12/31/2021       False  \n",
       "2             CHEYENNE WBO  1871-01-01   8/31/1935       False  \n",
       "3  CHEYENNE MUNICIPAL ARPT    9/1/1935  12/31/2021       False  \n",
       "4     Wausau Record Herald  1896-01-01  12/31/1941       False  "
      ]
     },
     "metadata": {},
     "output_type": "display_data"
    }
   ],
   "source": [
    "# city infos\n",
    "city_infos = pd.read_csv(\"./data/1_raw/cities/city_info.csv\")\n",
    "print('City infos: print the first 5 rows of the dataframe')\n",
    "display(city_infos.head())"
   ]
  },
  {
   "cell_type": "markdown",
   "metadata": {},
   "source": [
    "    - a README file `./data/1_raw/cities/README.txt` can give you additional information on these files.\n",
    "    - all other files are named with a city code (example: `./data/1_raw/cities/USW00094728.csv` for \"New York\") and contains historical temperature and precipitations between **1894** and **2021**, if available. They contains the following columns:\n",
    "        * `Date`: day (format YYYY-mm-dd)\n",
    "        * `tmax`: maximum temperature observed during the day (in fahrenheit)\n",
    "        * `tmin`: minimum temperature observed during the day (in fahrenheit)\n",
    "        * `prcp`: daily precipitation amount (inch per square meter, in/m²)"
   ]
  },
  {
   "cell_type": "code",
   "execution_count": 3,
   "metadata": {},
   "outputs": [
    {
     "name": "stdout",
     "output_type": "stream",
     "text": [
      "One example of a city file (USW00094728): print the first 5 rows of the dataframe\n"
     ]
    },
    {
     "data": {
      "text/html": [
       "<div>\n",
       "<style scoped>\n",
       "    .dataframe tbody tr th:only-of-type {\n",
       "        vertical-align: middle;\n",
       "    }\n",
       "\n",
       "    .dataframe tbody tr th {\n",
       "        vertical-align: top;\n",
       "    }\n",
       "\n",
       "    .dataframe thead th {\n",
       "        text-align: right;\n",
       "    }\n",
       "</style>\n",
       "<table border=\"1\" class=\"dataframe\">\n",
       "  <thead>\n",
       "    <tr style=\"text-align: right;\">\n",
       "      <th></th>\n",
       "      <th>Unnamed: 0</th>\n",
       "      <th>Date</th>\n",
       "      <th>tmax</th>\n",
       "      <th>tmin</th>\n",
       "      <th>prcp</th>\n",
       "    </tr>\n",
       "  </thead>\n",
       "  <tbody>\n",
       "    <tr>\n",
       "      <th>0</th>\n",
       "      <td>1</td>\n",
       "      <td>1869-01-01</td>\n",
       "      <td>29.0</td>\n",
       "      <td>19.0</td>\n",
       "      <td>0.75</td>\n",
       "    </tr>\n",
       "    <tr>\n",
       "      <th>1</th>\n",
       "      <td>2</td>\n",
       "      <td>1869-01-02</td>\n",
       "      <td>27.0</td>\n",
       "      <td>21.0</td>\n",
       "      <td>0.03</td>\n",
       "    </tr>\n",
       "    <tr>\n",
       "      <th>2</th>\n",
       "      <td>3</td>\n",
       "      <td>1869-01-03</td>\n",
       "      <td>35.0</td>\n",
       "      <td>27.0</td>\n",
       "      <td>0.00</td>\n",
       "    </tr>\n",
       "    <tr>\n",
       "      <th>3</th>\n",
       "      <td>4</td>\n",
       "      <td>1869-01-04</td>\n",
       "      <td>37.0</td>\n",
       "      <td>34.0</td>\n",
       "      <td>0.18</td>\n",
       "    </tr>\n",
       "    <tr>\n",
       "      <th>4</th>\n",
       "      <td>5</td>\n",
       "      <td>1869-01-05</td>\n",
       "      <td>43.0</td>\n",
       "      <td>37.0</td>\n",
       "      <td>0.05</td>\n",
       "    </tr>\n",
       "  </tbody>\n",
       "</table>\n",
       "</div>"
      ],
      "text/plain": [
       "   Unnamed: 0        Date  tmax  tmin  prcp\n",
       "0           1  1869-01-01  29.0  19.0  0.75\n",
       "1           2  1869-01-02  27.0  21.0  0.03\n",
       "2           3  1869-01-03  35.0  27.0  0.00\n",
       "3           4  1869-01-04  37.0  34.0  0.18\n",
       "4           5  1869-01-05  43.0  37.0  0.05"
      ]
     },
     "metadata": {},
     "output_type": "display_data"
    }
   ],
   "source": [
    "# one file with temperature and precipitation\n",
    "city_example = pd.read_csv(\"./data/1_raw/cities/USW00094728.csv\")\n",
    "print('One example of a city file (USW00094728): print the first 5 rows of the dataframe')\n",
    "display(city_example.head())"
   ]
  },
  {
   "cell_type": "markdown",
   "metadata": {},
   "source": [
    "- Demographics\n",
    "    - The `./data/1_raw/demographics/us-cities-demographics.csv` file contains demographic data (age, total population, etc.) for US cities. Data are taken in 2015. Columns are:\n",
    "        * `City`: city name\n",
    "        * `State`: state name (full name)\n",
    "        * `Median Age`: median age of the population\n",
    "        * `Male Population`: male population (integer)\n",
    "        * `Female Population`: female population (integer)\n",
    "        * `Total Population`: total population (integer)\n",
    "        * `Number of Veterans`: number of veterans (integer)\n",
    "        * `Foreign-born`: number of foreign-born (integer)\n",
    "        * `Average Household Size`: average size of an household\n",
    "        * `State Code`: state code (abbreviation)\n",
    "        * `Race`: most represented race\n",
    "        * `Count`: unknown column, should not be used"
   ]
  },
  {
   "cell_type": "code",
   "execution_count": 4,
   "metadata": {},
   "outputs": [
    {
     "name": "stdout",
     "output_type": "stream",
     "text": [
      "Demographics file: print the first 5 rows of the dataframe\n"
     ]
    },
    {
     "data": {
      "text/html": [
       "<div>\n",
       "<style scoped>\n",
       "    .dataframe tbody tr th:only-of-type {\n",
       "        vertical-align: middle;\n",
       "    }\n",
       "\n",
       "    .dataframe tbody tr th {\n",
       "        vertical-align: top;\n",
       "    }\n",
       "\n",
       "    .dataframe thead th {\n",
       "        text-align: right;\n",
       "    }\n",
       "</style>\n",
       "<table border=\"1\" class=\"dataframe\">\n",
       "  <thead>\n",
       "    <tr style=\"text-align: right;\">\n",
       "      <th></th>\n",
       "      <th>City</th>\n",
       "      <th>State</th>\n",
       "      <th>Median Age</th>\n",
       "      <th>Male Population</th>\n",
       "      <th>Female Population</th>\n",
       "      <th>Total Population</th>\n",
       "      <th>Number of Veterans</th>\n",
       "      <th>Foreign-born</th>\n",
       "      <th>Average Household Size</th>\n",
       "      <th>State Code</th>\n",
       "      <th>Race</th>\n",
       "      <th>Count</th>\n",
       "    </tr>\n",
       "  </thead>\n",
       "  <tbody>\n",
       "    <tr>\n",
       "      <th>0</th>\n",
       "      <td>Newark</td>\n",
       "      <td>New Jersey</td>\n",
       "      <td>34.6</td>\n",
       "      <td>138040.0</td>\n",
       "      <td>143873.0</td>\n",
       "      <td>281913</td>\n",
       "      <td>5829.0</td>\n",
       "      <td>86253.0</td>\n",
       "      <td>2.73</td>\n",
       "      <td>NJ</td>\n",
       "      <td>White</td>\n",
       "      <td>76402</td>\n",
       "    </tr>\n",
       "    <tr>\n",
       "      <th>1</th>\n",
       "      <td>Peoria</td>\n",
       "      <td>Illinois</td>\n",
       "      <td>33.1</td>\n",
       "      <td>56229.0</td>\n",
       "      <td>62432.0</td>\n",
       "      <td>118661</td>\n",
       "      <td>6634.0</td>\n",
       "      <td>7517.0</td>\n",
       "      <td>2.40</td>\n",
       "      <td>IL</td>\n",
       "      <td>American Indian and Alaska Native</td>\n",
       "      <td>1343</td>\n",
       "    </tr>\n",
       "    <tr>\n",
       "      <th>2</th>\n",
       "      <td>O'Fallon</td>\n",
       "      <td>Missouri</td>\n",
       "      <td>36.0</td>\n",
       "      <td>41762.0</td>\n",
       "      <td>43270.0</td>\n",
       "      <td>85032</td>\n",
       "      <td>5783.0</td>\n",
       "      <td>3269.0</td>\n",
       "      <td>2.77</td>\n",
       "      <td>MO</td>\n",
       "      <td>Hispanic or Latino</td>\n",
       "      <td>2583</td>\n",
       "    </tr>\n",
       "    <tr>\n",
       "      <th>3</th>\n",
       "      <td>Hampton</td>\n",
       "      <td>Virginia</td>\n",
       "      <td>35.5</td>\n",
       "      <td>66214.0</td>\n",
       "      <td>70240.0</td>\n",
       "      <td>136454</td>\n",
       "      <td>19638.0</td>\n",
       "      <td>6204.0</td>\n",
       "      <td>2.48</td>\n",
       "      <td>VA</td>\n",
       "      <td>Black or African-American</td>\n",
       "      <td>70303</td>\n",
       "    </tr>\n",
       "    <tr>\n",
       "      <th>4</th>\n",
       "      <td>Lakewood</td>\n",
       "      <td>Colorado</td>\n",
       "      <td>37.7</td>\n",
       "      <td>76013.0</td>\n",
       "      <td>76576.0</td>\n",
       "      <td>152589</td>\n",
       "      <td>9988.0</td>\n",
       "      <td>14169.0</td>\n",
       "      <td>2.29</td>\n",
       "      <td>CO</td>\n",
       "      <td>Hispanic or Latino</td>\n",
       "      <td>33630</td>\n",
       "    </tr>\n",
       "  </tbody>\n",
       "</table>\n",
       "</div>"
      ],
      "text/plain": [
       "       City       State  Median Age  Male Population  Female Population  \\\n",
       "0    Newark  New Jersey        34.6         138040.0           143873.0   \n",
       "1    Peoria    Illinois        33.1          56229.0            62432.0   \n",
       "2  O'Fallon    Missouri        36.0          41762.0            43270.0   \n",
       "3   Hampton    Virginia        35.5          66214.0            70240.0   \n",
       "4  Lakewood    Colorado        37.7          76013.0            76576.0   \n",
       "\n",
       "   Total Population  Number of Veterans  Foreign-born  Average Household Size  \\\n",
       "0            281913              5829.0       86253.0                    2.73   \n",
       "1            118661              6634.0        7517.0                    2.40   \n",
       "2             85032              5783.0        3269.0                    2.77   \n",
       "3            136454             19638.0        6204.0                    2.48   \n",
       "4            152589              9988.0       14169.0                    2.29   \n",
       "\n",
       "  State Code                               Race  Count  \n",
       "0         NJ                              White  76402  \n",
       "1         IL  American Indian and Alaska Native   1343  \n",
       "2         MO                 Hispanic or Latino   2583  \n",
       "3         VA          Black or African-American  70303  \n",
       "4         CO                 Hispanic or Latino  33630  "
      ]
     },
     "metadata": {},
     "output_type": "display_data"
    }
   ],
   "source": [
    "# one file with temperature and precipitation\n",
    "demographics = pd.read_csv(\"./data/1_raw/demographics/us-cities-demographics.csv\", delimiter=\";\")\n",
    "print('Demographics file: print the first 5 rows of the dataframe')\n",
    "display(demographics.head())"
   ]
  },
  {
   "cell_type": "markdown",
   "metadata": {},
   "source": [
    "##### One can find bellow some guidelines for this process:\n",
    "- For cities information (temperature, precipitation, latitude, longitude and city name)\n",
    "    - read a unique file with temperatures and precipitations, and filter the dates between 2011 and 2015 (included)\n",
    "    - when reading this unique file, add a column with the city attributes (latitude, longitude and city name)\n",
    "    - apply this process to read all files, and concatenate all DataFrames into a single one\n",
    "- For demographics:\n",
    "    - read the input file and keep one record per city\n",
    "    - map states' abbreviations from their fullname (with `STATE2ABBREV`)\n",
    "- For external data:\n",
    "    - merge the 2 previously created DataFrame from cities and demographics, to get a unique output DataFrame\n",
    "    - For each dataset, compute a new column with the city name, transformed without spaces and with lowercase. You can use the following function when computing this column: `\"\".join(city_name.lower().split())`\n",
    "    - Use this column when joining the 2 DataFrames"
   ]
  },
  {
   "cell_type": "markdown",
   "metadata": {},
   "source": [
    "<p align=\"center\">\n",
    "  <a>\n",
    "    <img src=\"./figures/UpToYou.png\" alt=\"Logo\" width=\"200\" height=\"280\">\n",
    "  </a>\n",
    "</p>"
   ]
  },
  {
   "cell_type": "markdown",
   "metadata": {},
   "source": [
    "#### Libraries"
   ]
  },
  {
   "cell_type": "code",
   "execution_count": 5,
   "metadata": {},
   "outputs": [],
   "source": [
    "import pandas as pd\n",
    "from utils import check_duplicates"
   ]
  },
  {
   "cell_type": "markdown",
   "metadata": {},
   "source": [
    "#### Input files/variables"
   ]
  },
  {
   "cell_type": "code",
   "execution_count": 6,
   "metadata": {},
   "outputs": [],
   "source": [
    "# inputs\n",
    "date_min = \"2011-01-01\" # min date for the training set (fires)\n",
    "date_max = \"2015-12-31\" # maximum date for predictions (fires)\n",
    "city_info_filepath = \"./data/1_raw/cities/city_info.csv\"\n",
    "demographics_filepath = \"./data/1_raw/demographics/us-cities-demographics.csv\"\n",
    "dest_file = \"./data/2_clean/external_data.csv\"\n",
    "checks = {True:\"OK\", False: \"NOK\"}\n",
    "\n",
    "# Dict to convert state names to abbreviations (2 letter code).\n",
    "STATE2ABBREV = {\n",
    "    \"Alabama\": \"AL\",\n",
    "    \"Alaska\": \"AK\",\n",
    "    \"Arizona\": \"AZ\",\n",
    "    \"Arkansas\": \"AR\",\n",
    "    \"California\": \"CA\",\n",
    "    \"Colorado\": \"CO\",\n",
    "    \"Connecticut\": \"CT\",\n",
    "    \"Delaware\": \"DE\",\n",
    "    \"Florida\": \"FL\",\n",
    "    \"Georgia\": \"GA\",\n",
    "    \"Hawaii\": \"HI\",\n",
    "    \"Idaho\": \"ID\",\n",
    "    \"Illinois\": \"IL\",\n",
    "    \"Indiana\": \"IN\",\n",
    "    \"Iowa\": \"IA\",\n",
    "    \"Kansas\": \"KS\",\n",
    "    \"Kentucky\": \"KY\",\n",
    "    \"Louisiana\": \"LA\",\n",
    "    \"Maine\": \"ME\",\n",
    "    \"Maryland\": \"MD\",\n",
    "    \"Massachusetts\": \"MA\",\n",
    "    \"Michigan\": \"MI\",\n",
    "    \"Minnesota\": \"MN\",\n",
    "    \"Mississippi\": \"MS\",\n",
    "    \"Missouri\": \"MO\",\n",
    "    \"Montana\": \"MT\",\n",
    "    \"Nebraska\": \"NE\",\n",
    "    \"Nevada\": \"NV\",\n",
    "    \"New Hampshire\": \"NH\",\n",
    "    \"New Jersey\": \"NJ\",\n",
    "    \"New Mexico\": \"NM\",\n",
    "    \"New York\": \"NY\",\n",
    "    \"North Carolina\": \"NC\",\n",
    "    \"North Dakota\": \"ND\",\n",
    "    \"Ohio\": \"OH\",\n",
    "    \"Oklahoma\": \"OK\",\n",
    "    \"Oregon\": \"OR\",\n",
    "    \"Pennsylvania\": \"PA\",\n",
    "    \"Rhode Island\": \"RI\",\n",
    "    \"South Carolina\": \"SC\",\n",
    "    \"South Dakota\": \"SD\",\n",
    "    \"Tennessee\": \"TN\",\n",
    "    \"Texas\": \"TX\",\n",
    "    \"Utah\": \"UT\",\n",
    "    \"Vermont\": \"VT\",\n",
    "    \"Virginia\": \"VA\",\n",
    "    \"Washington\": \"WA\",\n",
    "    \"West Virginia\": \"WV\",\n",
    "    \"Wisconsin\": \"WI\",\n",
    "    \"Wyoming\": \"WY\",\n",
    "    \"District of Columbia\": \"DC\",\n",
    "    \"American Samoa\": \"AS\",\n",
    "    \"Guam\": \"GU\",\n",
    "    \"Northern Mariana Islands\": \"MP\",\n",
    "    \"Puerto Rico\": \"PR\",\n",
    "    \"United States Minor Outlying Islands\": \"UM\",\n",
    "    \"U.S. Virgin Islands\": \"VI\",\n",
    "}"
   ]
  },
  {
   "cell_type": "markdown",
   "metadata": {},
   "source": [
    "### Merge all external data files into a single csv file"
   ]
  },
  {
   "cell_type": "code",
   "execution_count": 13,
   "metadata": {},
   "outputs": [],
   "source": [
    "# CODE HERE"
   ]
  },
  {
   "cell_type": "markdown",
   "metadata": {},
   "source": [
    "# Take Away\n",
    "- Finding external data in a AI project can improve the scoring of the model\n",
    "- It is often necessary to transform this external data before being able to merge it\n",
    "\n",
    "### Pitfalls to avoid\n",
    "- not checking for any duplicate values after a join/merge operation"
   ]
  }
 ],
 "metadata": {
  "kernelspec": {
   "display_name": "Python 3 (ipykernel)",
   "language": "python",
   "name": "python3"
  },
  "language_info": {
   "codemirror_mode": {
    "name": "ipython",
    "version": 3
   },
   "file_extension": ".py",
   "mimetype": "text/x-python",
   "name": "python",
   "nbconvert_exporter": "python",
   "pygments_lexer": "ipython3",
   "version": "3.8.13"
  },
  "vscode": {
   "interpreter": {
    "hash": "6f17db48aa853750bfee38181acc93506773951f4f6f179b65dfa4e5104417bd"
   }
  }
 },
 "nbformat": 4,
 "nbformat_minor": 4
}
